{
 "cells": [
  {
   "cell_type": "code",
   "execution_count": 1,
   "id": "d0e35b24-8efc-48fe-b427-17e6de5c50c8",
   "metadata": {},
   "outputs": [],
   "source": [
    "\n",
    "import pandas as pd\n",
    "import requests\n",
    "from bs4 import BeautifulSoup\n",
    "import pandas as pd\n",
    "import re\n",
    "import numpy as np\n",
    "import warnings\n",
    "warnings.filterwarnings('ignore')\n"
   ]
  },
  {
   "cell_type": "code",
   "execution_count": 16,
   "id": "6c566849-cd5f-410b-9aea-e6e38d0f94e8",
   "metadata": {},
   "outputs": [],
   "source": [
    "# https://www.scrapehero.com/scraping-odds-portal/\n",
    "\n",
    "\n",
    "url = \"https://www.oddsportal.com/rugby-union/world/united-rugby-championship/results/\"\n",
    "url = \"https://www.oddsportal.com/rugby-union/world/united-rugby-championship-2023-2024/results/\"\n",
    "\n",
    "\n",
    "\n",
    "html_text = requests.get(url, headers={\n",
    "    \"User-Agent\": \"Mozilla/5.0 (Macintosh; Intel Mac OS X 10_15_7) \\\n",
    "        AppleWebKit/605.1.15 (KHTML, like Gecko) Version/17.1 Safari/605.1.15\"\n",
    "}).text\n",
    "\n",
    "\n"
   ]
  },
  {
   "cell_type": "code",
   "execution_count": null,
   "id": "668ec12c-2435-4828-bc75-976cc832e687",
   "metadata": {},
   "outputs": [],
   "source": []
  },
  {
   "cell_type": "code",
   "execution_count": 20,
   "id": "75b3b318-3cfe-443d-8a97-be7713aa3328",
   "metadata": {},
   "outputs": [
    {
     "data": {
      "text/plain": [
       "[]"
      ]
     },
     "execution_count": 20,
     "metadata": {},
     "output_type": "execute_result"
    }
   ],
   "source": [
    "# date, time, venue\n",
    "odds_soup = BeautifulSoup(html_text)\n",
    "\n",
    "odds_soup.find_all(\"div\", class_=\"eventRow flex w-full flex-col text-xs\")"
   ]
  },
  {
   "cell_type": "code",
   "execution_count": 14,
   "id": "b56927aa-0cdb-43f0-9f11-583f0bc444e0",
   "metadata": {},
   "outputs": [
    {
     "data": {
      "text/plain": [
       "[]"
      ]
     },
     "execution_count": 14,
     "metadata": {},
     "output_type": "execute_result"
    }
   ],
   "source": [
    "odds_soup.find_all(\"div\", set_=\"98677\")"
   ]
  },
  {
   "cell_type": "code",
   "execution_count": null,
   "id": "af76ef5a-23c2-4108-91bd-e7a8b0c9d81d",
   "metadata": {},
   "outputs": [],
   "source": [
    "eventRow flex w-full flex-col text-xs"
   ]
  },
  {
   "cell_type": "code",
   "execution_count": null,
   "id": "cdf96900-ac4f-46a5-941d-1148ab1f2601",
   "metadata": {},
   "outputs": [],
   "source": [
    "OWpGf0cl"
   ]
  },
  {
   "cell_type": "code",
   "execution_count": 22,
   "id": "d2c4fd0a-a85e-4d9f-8cf3-37e32f909bfa",
   "metadata": {},
   "outputs": [
    {
     "data": {
      "text/plain": [
       "[<div class=\"min-h-[206px]\">\n",
       " <next-matches :data-context='\"results\"' :leagues-button='{\"MyLeagueButton\":{\"id\":98677,\"name\":\"United Rugby Championship 2023\\/2024\",\"countryId\":8,\"addText\":\"Add \\\"United Rugby Championship 2023\\/2024\\\" to My Leagues\",\"removeText\":\"Remove \\\"United Rugby Championship 2023\\/2024\\\" from My Leagues\"},\"myLeaguesAction\":\"add\"}' :odds-request='{\"url\":\"\\/ajax-sport-country-tournament-archive_\\/8\\/bmdfMPgm\\/\",\"urlPartTz\":11,\"urlPartQs\":\"?_=\"}' :page-name=\"'tournament-results'\">\n",
       " </next-matches>\n",
       " </div>]"
      ]
     },
     "execution_count": 22,
     "metadata": {},
     "output_type": "execute_result"
    }
   ],
   "source": [
    "odds_soup.find_all(\"div\", class_=\"min-h-[206px]\")"
   ]
  },
  {
   "cell_type": "code",
   "execution_count": null,
   "id": "8b8d548d-7ce2-4efb-8c3a-e9d0ccc1d77c",
   "metadata": {},
   "outputs": [],
   "source": []
  },
  {
   "cell_type": "code",
   "execution_count": null,
   "id": "cae57467-4985-45a6-ba17-838cb54d3529",
   "metadata": {},
   "outputs": [],
   "source": []
  },
  {
   "cell_type": "code",
   "execution_count": null,
   "id": "11a2b3b7-eb51-4758-a1a8-5bae8a7ebd06",
   "metadata": {},
   "outputs": [],
   "source": []
  }
 ],
 "metadata": {
  "kernelspec": {
   "display_name": "rugby-env-2",
   "language": "python",
   "name": "rugby-env-2"
  },
  "language_info": {
   "codemirror_mode": {
    "name": "ipython",
    "version": 3
   },
   "file_extension": ".py",
   "mimetype": "text/x-python",
   "name": "python",
   "nbconvert_exporter": "python",
   "pygments_lexer": "ipython3",
   "version": "3.10.11"
  }
 },
 "nbformat": 4,
 "nbformat_minor": 5
}
